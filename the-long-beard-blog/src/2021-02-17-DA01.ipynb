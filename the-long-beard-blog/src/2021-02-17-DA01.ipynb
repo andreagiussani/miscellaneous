{
 "cells": [
  {
   "cell_type": "markdown",
   "metadata": {},
   "source": [
    "# TITLE: Video Games Sales Data Analysis\n",
    "## Author: Andrea Giussani\n",
    "### Serie in the Long Beard Blog\n",
    "### Date: Feb 17, 2021"
   ]
  },
  {
   "cell_type": "markdown",
   "metadata": {},
   "source": [
    "\n",
    "Have you ever wondered what is the most played video game in the last thirty years? How about which gaming platform is the most used in the last decade? Is Super Mario the most popular game ever? Or is Call of Duty the most appealing one in the last decade?\n",
    "\n",
    "In this post, we are going to explore advanced data manipulation techniques that are typically used to translate raw data into insightful plots and charts — enabling you to answer these types of questions.\n",
    "\n",
    "To perform this analysis, we will use the Python language, and we will explore two of the most important data analytics libraries: Pandas and Matplotlib.\n"
   ]
  },
  {
   "cell_type": "code",
   "execution_count": 1,
   "metadata": {},
   "outputs": [],
   "source": [
    "import matplotlib.pyplot as plt\n",
    "import numpy as np\n",
    "import pandas as pd"
   ]
  },
  {
   "cell_type": "code",
   "execution_count": 2,
   "metadata": {},
   "outputs": [],
   "source": [
    "import warnings\n",
    "warnings.simplefilter(action='ignore', category=FutureWarning)"
   ]
  },
  {
   "cell_type": "code",
   "execution_count": 3,
   "metadata": {},
   "outputs": [],
   "source": [
    "pd.set_option('display.max_columns', 500)\n",
    "pd.set_option('display.max_rows', 500)"
   ]
  },
  {
   "cell_type": "markdown",
   "metadata": {},
   "source": [
    "## 1. Data Manipulation and Cleaning"
   ]
  },
  {
   "cell_type": "markdown",
   "metadata": {},
   "source": [
    "### 1.1 Data Ingestion"
   ]
  },
  {
   "cell_type": "markdown",
   "metadata": {},
   "source": [
    "We read the file `'data/vgsales.csv'` using the pandas `read_csv()` function, and store it into the variable `data`. "
   ]
  },
  {
   "cell_type": "code",
   "execution_count": 4,
   "metadata": {},
   "outputs": [],
   "source": [
    "data = pd.read_csv('data/vgsales.csv')"
   ]
  },
  {
   "cell_type": "markdown",
   "metadata": {},
   "source": [
    "We now check the overall composition of the dataset using the `.info()` method"
   ]
  },
  {
   "cell_type": "code",
   "execution_count": 5,
   "metadata": {},
   "outputs": [
    {
     "name": "stdout",
     "output_type": "stream",
     "text": [
      "<class 'pandas.core.frame.DataFrame'>\n",
      "RangeIndex: 16598 entries, 0 to 16597\n",
      "Data columns (total 11 columns):\n",
      " #   Column        Non-Null Count  Dtype  \n",
      "---  ------        --------------  -----  \n",
      " 0   Rank          16598 non-null  int64  \n",
      " 1   Name          16598 non-null  object \n",
      " 2   Platform      16598 non-null  object \n",
      " 3   Year          16327 non-null  float64\n",
      " 4   Genre         16598 non-null  object \n",
      " 5   Publisher     16540 non-null  object \n",
      " 6   NA_Sales      16598 non-null  float64\n",
      " 7   EU_Sales      16598 non-null  float64\n",
      " 8   JP_Sales      16598 non-null  float64\n",
      " 9   Other_Sales   16598 non-null  float64\n",
      " 10  Global_Sales  16598 non-null  float64\n",
      "dtypes: float64(6), int64(1), object(4)\n",
      "memory usage: 1.4+ MB\n"
     ]
    }
   ],
   "source": [
    "data.info()"
   ]
  },
  {
   "cell_type": "markdown",
   "metadata": {},
   "source": [
    "### 1.2 Data Cleaning\n",
    "\n",
    "We clearly see there exists a few null values among both the `Publisher` and `Year` columns. The strategy here is to remove them. <br>\n",
    "Let us remove the null values using the pandas `.dropna()` method:"
   ]
  },
  {
   "cell_type": "code",
   "execution_count": 6,
   "metadata": {},
   "outputs": [],
   "source": [
    "data.dropna(subset=['Publisher', 'Year'], how='any', inplace=True)"
   ]
  },
  {
   "cell_type": "markdown",
   "metadata": {},
   "source": [
    "The dataset was generated at the end of the year 2016. Hence, each observation with an occurrence greater than or equal to 2017 must be considered as either corrupted or incorrect, and hence must be removed."
   ]
  },
  {
   "cell_type": "code",
   "execution_count": 7,
   "metadata": {},
   "outputs": [],
   "source": [
    "data = data.query('Year < 2017')"
   ]
  },
  {
   "cell_type": "markdown",
   "metadata": {},
   "source": [
    "### 1.3 Data Consistency"
   ]
  },
  {
   "cell_type": "markdown",
   "metadata": {},
   "source": [
    "Before moving to a proper data analysis, we need to be sure the data is consistent. By consistency I mean an intrinsic characteristic of the data. For instance, the `Publisher` name might contain a typo, or sometimes a Publisher might be identified by several names. \n",
    "\n",
    "To investigate this, let us check how `Sony` appears inside our dataset: we hence access to the `Publisher` column, which is of type object, and try to check the different names `Sony` is used for: "
   ]
  },
  {
   "cell_type": "code",
   "execution_count": 8,
   "metadata": {},
   "outputs": [
    {
     "data": {
      "text/plain": [
       "Sony Computer Entertainment            682\n",
       "Sony Computer Entertainment Europe      15\n",
       "Sony Online Entertainment                8\n",
       "Sony Computer Entertainment America      3\n",
       "Sony Music Entertainment                 1\n",
       "Name: Publisher, dtype: int64"
      ]
     },
     "execution_count": 8,
     "metadata": {},
     "output_type": "execute_result"
    }
   ],
   "source": [
    "data[data['Publisher'].str.contains('sony', case=False)]['Publisher'].value_counts()"
   ]
  },
  {
   "cell_type": "markdown",
   "metadata": {},
   "source": [
    "Obviously, the Sony Publisher identifier is not homogeneously identified among observations.\n",
    "\n",
    "We might think of, say, changing `“Sony Computer Entertainment”`, `“Sony Computer Entertainment America”`, `“Sony Computer Entertainment Europe”`, `“Sony Music Entertainment”` and `“Sony Online Entertainment”` to `“Sony”`.\n",
    "\n",
    "To do this, we basically create a custom method, called `merging_info_publisher`, that should be called whenever we wish to perform such kind of cleaning on our data."
   ]
  },
  {
   "cell_type": "code",
   "execution_count": 9,
   "metadata": {},
   "outputs": [],
   "source": [
    "# DO NOT REMOVE! THIS HAS BEEN PREFILLED FOR YOU\n",
    "def merging_info_publisher(data: pd.DataFrame, publisher: str):\n",
    "    data.loc[data['Publisher'].str.contains(publisher, case=False), 'Publisher'] = publisher\n",
    "    return data[data['Publisher'].str.contains(publisher, case=False)]['Publisher'].value_counts()"
   ]
  },
  {
   "cell_type": "markdown",
   "metadata": {},
   "source": [
    "Possibly, this pattern is repeated for different publishers as well. Here we identify a few Publishers that might have different labels inside the dataset, and we apply the `merging_info_publisher` method for each of them."
   ]
  },
  {
   "cell_type": "code",
   "execution_count": 10,
   "metadata": {},
   "outputs": [],
   "source": [
    "# DO NOT REMOVE! THIS HAS BEEN PREFILLED FOR YOU\n",
    "publishers = ['Sony', 'Nintendo', 'Ubisoft', 'Activision', 'Electronic Arts', 'Konami']\n",
    "for publisher in publishers:\n",
    "    merging_info_publisher(data, publisher)"
   ]
  },
  {
   "cell_type": "markdown",
   "metadata": {},
   "source": [
    "Let us check now how `\"Sony\"` is mapped inside our dataset:"
   ]
  },
  {
   "cell_type": "code",
   "execution_count": 11,
   "metadata": {},
   "outputs": [
    {
     "data": {
      "text/plain": [
       "Sony    709\n",
       "Name: Publisher, dtype: int64"
      ]
     },
     "execution_count": 11,
     "metadata": {},
     "output_type": "execute_result"
    }
   ],
   "source": [
    "# DO NOT REMOVE! THIS HAS BEEN PREFILLED FOR YOU\n",
    "data[data['Publisher'].str.contains('Sony')]['Publisher'].value_counts()"
   ]
  },
  {
   "cell_type": "markdown",
   "metadata": {},
   "source": [
    "An extra control is to convert `EA Sports` to `Electronic Arts`."
   ]
  },
  {
   "cell_type": "code",
   "execution_count": 12,
   "metadata": {},
   "outputs": [],
   "source": [
    "# DO NOT REMOVE! THIS HAS BEEN PREFILLED FOR YOU\n",
    "data.loc[data['Publisher'].str.contains('EA Sports', case=False), 'Publisher'] = 'Electronic Arts'"
   ]
  },
  {
   "cell_type": "markdown",
   "metadata": {},
   "source": [
    "Also, convert `['Bandai', 'Namco Bandai', 'Namco', 'Namco Bandai Games' ]` to `Namco`."
   ]
  },
  {
   "cell_type": "code",
   "execution_count": 13,
   "metadata": {},
   "outputs": [],
   "source": [
    "# DO NOT REMOVE! THIS HAS BEEN PREFILLED FOR YOU\n",
    "namco_names = ['Bandai', 'Namco Bandai', 'Namco', 'Namco Bandai Games' ]\n",
    "data.loc[data['Publisher'].str.contains('|'.join(namco_names), case=False), 'Publisher'] = 'Namco'"
   ]
  },
  {
   "cell_type": "markdown",
   "metadata": {},
   "source": [
    "Let us check the absolute distribution of the top 20 Publishers in our dataset:"
   ]
  },
  {
   "cell_type": "code",
   "execution_count": 14,
   "metadata": {},
   "outputs": [
    {
     "data": {
      "text/plain": [
       "Electronic Arts                           1341\n",
       "Activision                                 996\n",
       "Ubisoft                                    931\n",
       "Namco                                      928\n",
       "Konami                                     823\n",
       "THQ                                        712\n",
       "Sony                                       709\n",
       "Nintendo                                   696\n",
       "Sega                                       630\n",
       "Take-Two Interactive                       412\n",
       "Capcom                                     376\n",
       "Atari                                      347\n",
       "Tecmo Koei                                 338\n",
       "Square Enix                                231\n",
       "Warner Bros. Interactive Entertainment     217\n",
       "Disney Interactive Studios                 214\n",
       "Midway Games                               196\n",
       "Eidos Interactive                          196\n",
       "505 Games                                  192\n",
       "Microsoft Game Studios                     189\n",
       "Name: Publisher, dtype: int64"
      ]
     },
     "execution_count": 14,
     "metadata": {},
     "output_type": "execute_result"
    }
   ],
   "source": [
    "data['Publisher'].value_counts().head(20)"
   ]
  },
  {
   "cell_type": "markdown",
   "metadata": {},
   "source": [
    "Finally, remove the Publisher called `\"Unknown\"`: this is not obviously fine. Store the result into the global variable `filtered_data`"
   ]
  },
  {
   "cell_type": "code",
   "execution_count": 15,
   "metadata": {},
   "outputs": [],
   "source": [
    "filtered_data = data[data['Publisher']!='Unknown']"
   ]
  },
  {
   "cell_type": "markdown",
   "metadata": {},
   "source": [
    "## 2. Total Games Released Each Year\n",
    "\n",
    "We now want to know when the video game industry experienced a drastic development. Based on the number of games released each year, we might be able to find out when the video games boom happened. We store the distribution of video games releases by year inside the variable `counter_df_by_year`."
   ]
  },
  {
   "cell_type": "code",
   "execution_count": 16,
   "metadata": {},
   "outputs": [],
   "source": [
    "counter_df_by_year = filtered_data[['Name', 'Year']].drop_duplicates().groupby('Year').count()\n",
    "counter_df_by_year.rename(columns={'Name': 'Number of Games'}, inplace=True)"
   ]
  },
  {
   "cell_type": "markdown",
   "metadata": {},
   "source": [
    "Let us embed that dataframe into a graphical dimension:"
   ]
  },
  {
   "cell_type": "code",
   "execution_count": 17,
   "metadata": {},
   "outputs": [
    {
     "data": {
      "image/png": "[encoded data removed]",
      "text/plain": [
       "<Figure size 720x576 with 1 Axes>"
      ]
     },
     "metadata": {},
     "output_type": "display_data"
    }
   ],
   "source": [
    "with plt.style.context('ggplot'):\n",
    "    fig, ax = plt.subplots(figsize=(10,8))\n",
    "    ax.plot(counter_df_by_year.index, counter_df_by_year['Number of Games'], marker='d')\n",
    "    ax.set_xlabel('Year')\n",
    "    ax.set_ylabel('Number of Games')\n",
    "    ax.set_title('Evolution of Video Games Industry')\n",
    "    plt.show()"
   ]
  },
  {
   "cell_type": "markdown",
   "metadata": {},
   "source": [
    "There was a significant boom in the late 2000s. Since then, the distinct number of release has shrunk possibly due to a more convergence to popular titles by both customers and developers."
   ]
  },
  {
   "cell_type": "markdown",
   "metadata": {},
   "source": [
    "## 3. Publisher Analysis with respect to Global Sales"
   ]
  },
  {
   "cell_type": "markdown",
   "metadata": {},
   "source": [
    "Instead of considering absolute frequencies (with respect to the number of video games releases) of the top publishers, a better proxy is to consider the top publishers by Global Sales, identified by the columns `\"Global_sales\"`."
   ]
  },
  {
   "cell_type": "code",
   "execution_count": 18,
   "metadata": {},
   "outputs": [],
   "source": [
    "# DO NOT REMOVE! THIS HAS BEEN PREFILLED FOR YOU\n",
    "total_sales_df = filtered_data[['Global_Sales', 'Publisher']].drop_duplicates().groupby('Publisher').sum()\n",
    "top_10_sales = total_sales_df.sort_values(by='Global_Sales', ascending=False).head(10)"
   ]
  },
  {
   "cell_type": "markdown",
   "metadata": {},
   "source": [
    "### 3.2 Graphical Representation of the Publishers"
   ]
  },
  {
   "cell_type": "markdown",
   "metadata": {},
   "source": [
    "We again embed the above dataset into a graphical dimension to better understand the data."
   ]
  },
  {
   "cell_type": "code",
   "execution_count": 19,
   "metadata": {},
   "outputs": [
    {
     "data": {
      "image/png": "[encoded data removed]",
      "text/plain": [
       "<Figure size 720x576 with 1 Axes>"
      ]
     },
     "metadata": {},
     "output_type": "display_data"
    }
   ],
   "source": [
    "df = top_10_sales[::-1]\n",
    "with plt.style.context('seaborn'):\n",
    "    fig, ax = plt.subplots(figsize=(10,8))\n",
    "    ax.barh(df.index, df['Global_Sales'])\n",
    "    plt.show()"
   ]
  },
  {
   "cell_type": "markdown",
   "metadata": {},
   "source": [
    "## 4. Understand the most popular Platform by Year "
   ]
  },
  {
   "cell_type": "markdown",
   "metadata": {
    "hidePrompt": false
   },
   "source": [
    "We now want to go further and try to see which Platform was the most popular for each Year. To do so, we again use a proxy the total Global Sales with respect to video games for each specific Platform. \n",
    "\n",
    "However, this requires a little bit of data wrangling, and therefore we need to perform a few steps to be able to answer to this question.\n",
    "\n",
    "First of all, we count the number of video games by Platform using the `.groupby()` method, and we store the result into the variable `most_popular_platforms`. This has been done for you."
   ]
  },
  {
   "cell_type": "code",
   "execution_count": 20,
   "metadata": {},
   "outputs": [],
   "source": [
    "# DO NOT REMOVE! THIS HAS BEEN PREFILLED FOR YOU\n",
    "most_popular_platforms = filtered_data[['Name','Platform']].drop_duplicates().groupby('Platform').count()\n",
    "most_popular_platforms.rename(columns={'Name': 'Total Observations'}, inplace=True)"
   ]
  },
  {
   "cell_type": "markdown",
   "metadata": {},
   "source": [
    "We then need two steps:\n",
    "* store inside the variable `top20_platforms` the top 20 platform with respect to the column `Total Observations`;\n",
    "* filter the `filtered_data` with those Platforms. Store the result into `filtered_data_top20`."
   ]
  },
  {
   "cell_type": "code",
   "execution_count": 21,
   "metadata": {},
   "outputs": [],
   "source": [
    "top_20_platforms = most_popular_platforms.sort_values(by='Total Observations', ascending=False).head(20)\n",
    "filtered_data_top20 = filtered_data[filtered_data['Platform'].isin(list(top_20_platforms.index))]"
   ]
  },
  {
   "cell_type": "markdown",
   "metadata": {},
   "source": [
    "We aggregate the data with respect to Global Sales using the pandas `.pivot_table()`. We would like to have, as columns, the platforms' vendor and, as index, the year. Store the result into the `pivoted_data_df`."
   ]
  },
  {
   "cell_type": "code",
   "execution_count": 22,
   "metadata": {},
   "outputs": [],
   "source": [
    "pivoted_data = filtered_data_top20.pivot_table(\n",
    "    index='Year',\n",
    "    columns='Platform',\n",
    "    values='Global_Sales',\n",
    "    aggfunc='sum',\n",
    "    fill_value=0\n",
    ")"
   ]
  },
  {
   "cell_type": "markdown",
   "metadata": {},
   "source": [
    "The next part is a little bit tricky and it has been already prefilled for you. \n",
    "We now want to find the `Platform` which has the top sales for each distinct year. To do that we employ the `NumPy` method `argsort()` which basically allows to sort, for each row, the observations in ascending order."
   ]
  },
  {
   "cell_type": "code",
   "execution_count": 23,
   "metadata": {},
   "outputs": [],
   "source": [
    "# DO NOT REMOVE! THIS HAS BEEN PREFILLED FOR YOU\n",
    "rows_arrangement = np.argsort(-pivoted_data.values, axis=1)"
   ]
  },
  {
   "cell_type": "markdown",
   "metadata": {},
   "source": [
    "We then select the column names based on the sorting operation, so that in the first place we will find the platform with highest value with respect to the aggregated Global Sales."
   ]
  },
  {
   "cell_type": "code",
   "execution_count": 24,
   "metadata": {},
   "outputs": [],
   "source": [
    "# DO NOT REMOVE! THIS HAS BEEN PREFILLED FOR YOU\n",
    "data_platform_by_year = pd.DataFrame(pivoted_data.columns[rows_arrangement], index=pivoted_data.index)"
   ]
  },
  {
   "cell_type": "markdown",
   "metadata": {},
   "source": [
    "### 4.1 Distribution of the most popular platforms during the last 40 years"
   ]
  },
  {
   "cell_type": "markdown",
   "metadata": {},
   "source": [
    "Store the resulting dataframe object into the variable `most_popular_platform_by_year`."
   ]
  },
  {
   "cell_type": "code",
   "execution_count": 25,
   "metadata": {},
   "outputs": [],
   "source": [
    "most_popular_platform_by_year = pivoted_data.idxmax(axis=1).reset_index()\n",
    "most_popular_platform_by_year.rename(columns={0: 'Platform'}, inplace=True)"
   ]
  },
  {
   "cell_type": "code",
   "execution_count": 26,
   "metadata": {},
   "outputs": [
    {
     "data": {
      "text/html": [
       "<div>\n",
       "<style scoped>\n",
       "    .dataframe tbody tr th:only-of-type {\n",
       "        vertical-align: middle;\n",
       "    }\n",
       "\n",
       "    .dataframe tbody tr th {\n",
       "        vertical-align: top;\n",
       "    }\n",
       "\n",
       "    .dataframe thead th {\n",
       "        text-align: right;\n",
       "    }\n",
       "</style>\n",
       "<table border=\"1\" class=\"dataframe\">\n",
       "  <thead>\n",
       "    <tr style=\"text-align: right;\">\n",
       "      <th></th>\n",
       "      <th>Year</th>\n",
       "      <th>Platform</th>\n",
       "    </tr>\n",
       "  </thead>\n",
       "  <tbody>\n",
       "    <tr>\n",
       "      <th>32</th>\n",
       "      <td>2012.0</td>\n",
       "      <td>PS3</td>\n",
       "    </tr>\n",
       "    <tr>\n",
       "      <th>33</th>\n",
       "      <td>2013.0</td>\n",
       "      <td>PS3</td>\n",
       "    </tr>\n",
       "    <tr>\n",
       "      <th>34</th>\n",
       "      <td>2014.0</td>\n",
       "      <td>PS4</td>\n",
       "    </tr>\n",
       "    <tr>\n",
       "      <th>35</th>\n",
       "      <td>2015.0</td>\n",
       "      <td>PS4</td>\n",
       "    </tr>\n",
       "    <tr>\n",
       "      <th>36</th>\n",
       "      <td>2016.0</td>\n",
       "      <td>PS4</td>\n",
       "    </tr>\n",
       "  </tbody>\n",
       "</table>\n",
       "</div>"
      ],
      "text/plain": [
       "      Year Platform\n",
       "32  2012.0      PS3\n",
       "33  2013.0      PS3\n",
       "34  2014.0      PS4\n",
       "35  2015.0      PS4\n",
       "36  2016.0      PS4"
      ]
     },
     "execution_count": 26,
     "metadata": {},
     "output_type": "execute_result"
    }
   ],
   "source": [
    "most_popular_platform_by_year.tail()"
   ]
  },
  {
   "cell_type": "markdown",
   "metadata": {},
   "source": [
    "## 5. Which was the most popular game in each Year?"
   ]
  },
  {
   "cell_type": "markdown",
   "metadata": {},
   "source": [
    "Store the resulting dataframe object into the variable `most_popular_games`."
   ]
  },
  {
   "cell_type": "code",
   "execution_count": 27,
   "metadata": {},
   "outputs": [],
   "source": [
    "most_popular_games = pd.DataFrame()\n",
    "for _, row in most_popular_platform_by_year.iterrows():\n",
    "    year = row['Year']\n",
    "    platform = row['Platform']\n",
    "    \n",
    "    inner_df = filtered_data.query(\"Year == @year & Platform==@platform\")\n",
    "    \n",
    "    pivoted_table_year_platform = inner_df.pivot_table(\n",
    "        index = 'Year',\n",
    "        columns='Name',\n",
    "        values='Global_Sales',\n",
    "        aggfunc='sum',\n",
    "        fill_value=0\n",
    "    )\n",
    "    \n",
    "    temp_col_max_value = pivoted_table_year_platform.max(axis=1).to_frame() # finds max value by row\n",
    "    temp_col_max_value.rename(columns={0:'Total sales (ML of units)'}, inplace=True)\n",
    "    \n",
    "    temp_col_max = pivoted_table_year_platform.idxmax(axis=1).to_frame() # find the column with the greatest value on each row\n",
    "    temp_col_max.rename(columns={0:'Most Wanted Title'}, inplace=True)\n",
    "    \n",
    "    merging_dfs = pd.concat([temp_col_max, temp_col_max_value], axis=1)\n",
    "    \n",
    "    most_popular_games = most_popular_games.append(merging_dfs)"
   ]
  },
  {
   "cell_type": "code",
   "execution_count": 28,
   "metadata": {},
   "outputs": [
    {
     "data": {
      "text/html": [
       "<div>\n",
       "<style scoped>\n",
       "    .dataframe tbody tr th:only-of-type {\n",
       "        vertical-align: middle;\n",
       "    }\n",
       "\n",
       "    .dataframe tbody tr th {\n",
       "        vertical-align: top;\n",
       "    }\n",
       "\n",
       "    .dataframe thead th {\n",
       "        text-align: right;\n",
       "    }\n",
       "</style>\n",
       "<table border=\"1\" class=\"dataframe\">\n",
       "  <thead>\n",
       "    <tr style=\"text-align: right;\">\n",
       "      <th></th>\n",
       "      <th>Most Wanted Title</th>\n",
       "      <th>Total sells (ML of units)</th>\n",
       "    </tr>\n",
       "    <tr>\n",
       "      <th>Year</th>\n",
       "      <th></th>\n",
       "      <th></th>\n",
       "    </tr>\n",
       "  </thead>\n",
       "  <tbody>\n",
       "    <tr>\n",
       "      <th>1980.0</th>\n",
       "      <td>Asteroids</td>\n",
       "      <td>4.31</td>\n",
       "    </tr>\n",
       "    <tr>\n",
       "      <th>1981.0</th>\n",
       "      <td>Pitfall!</td>\n",
       "      <td>4.50</td>\n",
       "    </tr>\n",
       "    <tr>\n",
       "      <th>1982.0</th>\n",
       "      <td>Pac-Man</td>\n",
       "      <td>7.81</td>\n",
       "    </tr>\n",
       "    <tr>\n",
       "      <th>1983.0</th>\n",
       "      <td>Pitfall II: Lost Caverns</td>\n",
       "      <td>1.31</td>\n",
       "    </tr>\n",
       "    <tr>\n",
       "      <th>1984.0</th>\n",
       "      <td>Beamrider</td>\n",
       "      <td>0.27</td>\n",
       "    </tr>\n",
       "    <tr>\n",
       "      <th>1985.0</th>\n",
       "      <td>Ghostbusters</td>\n",
       "      <td>0.45</td>\n",
       "    </tr>\n",
       "    <tr>\n",
       "      <th>1986.0</th>\n",
       "      <td>Solaris</td>\n",
       "      <td>0.37</td>\n",
       "    </tr>\n",
       "    <tr>\n",
       "      <th>1987.0</th>\n",
       "      <td>Kung-Fu Master</td>\n",
       "      <td>0.65</td>\n",
       "    </tr>\n",
       "    <tr>\n",
       "      <th>1988.0</th>\n",
       "      <td>River Raid II</td>\n",
       "      <td>0.51</td>\n",
       "    </tr>\n",
       "    <tr>\n",
       "      <th>1989.0</th>\n",
       "      <td>Double Dragon</td>\n",
       "      <td>0.47</td>\n",
       "    </tr>\n",
       "    <tr>\n",
       "      <th>1990.0</th>\n",
       "      <td>Super Mario World</td>\n",
       "      <td>20.61</td>\n",
       "    </tr>\n",
       "    <tr>\n",
       "      <th>1991.0</th>\n",
       "      <td>The Legend of Zelda: A Link to the Past</td>\n",
       "      <td>4.61</td>\n",
       "    </tr>\n",
       "    <tr>\n",
       "      <th>1992.0</th>\n",
       "      <td>Super Mario Kart</td>\n",
       "      <td>8.76</td>\n",
       "    </tr>\n",
       "    <tr>\n",
       "      <th>1993.0</th>\n",
       "      <td>Super Mario All-Stars</td>\n",
       "      <td>10.55</td>\n",
       "    </tr>\n",
       "    <tr>\n",
       "      <th>1994.0</th>\n",
       "      <td>Donkey Kong Country</td>\n",
       "      <td>9.30</td>\n",
       "    </tr>\n",
       "    <tr>\n",
       "      <th>1995.0</th>\n",
       "      <td>Namco Museum Vol.1</td>\n",
       "      <td>3.84</td>\n",
       "    </tr>\n",
       "    <tr>\n",
       "      <th>1996.0</th>\n",
       "      <td>Crash Bandicoot</td>\n",
       "      <td>6.82</td>\n",
       "    </tr>\n",
       "    <tr>\n",
       "      <th>1997.0</th>\n",
       "      <td>Gran Turismo</td>\n",
       "      <td>10.95</td>\n",
       "    </tr>\n",
       "    <tr>\n",
       "      <th>1998.0</th>\n",
       "      <td>Tekken 3</td>\n",
       "      <td>7.16</td>\n",
       "    </tr>\n",
       "    <tr>\n",
       "      <th>1999.0</th>\n",
       "      <td>Gran Turismo 2</td>\n",
       "      <td>9.49</td>\n",
       "    </tr>\n",
       "    <tr>\n",
       "      <th>2000.0</th>\n",
       "      <td>Final Fantasy IX</td>\n",
       "      <td>5.30</td>\n",
       "    </tr>\n",
       "    <tr>\n",
       "      <th>2001.0</th>\n",
       "      <td>Gran Turismo 3: A-Spec</td>\n",
       "      <td>14.98</td>\n",
       "    </tr>\n",
       "    <tr>\n",
       "      <th>2002.0</th>\n",
       "      <td>Grand Theft Auto: Vice City</td>\n",
       "      <td>16.15</td>\n",
       "    </tr>\n",
       "    <tr>\n",
       "      <th>2003.0</th>\n",
       "      <td>Need for Speed Underground</td>\n",
       "      <td>7.20</td>\n",
       "    </tr>\n",
       "    <tr>\n",
       "      <th>2004.0</th>\n",
       "      <td>Grand Theft Auto: San Andreas</td>\n",
       "      <td>20.81</td>\n",
       "    </tr>\n",
       "    <tr>\n",
       "      <th>2005.0</th>\n",
       "      <td>Madden NFL 06</td>\n",
       "      <td>4.91</td>\n",
       "    </tr>\n",
       "    <tr>\n",
       "      <th>2006.0</th>\n",
       "      <td>Wii Sports</td>\n",
       "      <td>82.74</td>\n",
       "    </tr>\n",
       "    <tr>\n",
       "      <th>2007.0</th>\n",
       "      <td>Wii Fit</td>\n",
       "      <td>22.72</td>\n",
       "    </tr>\n",
       "    <tr>\n",
       "      <th>2008.0</th>\n",
       "      <td>Mario Kart Wii</td>\n",
       "      <td>35.82</td>\n",
       "    </tr>\n",
       "    <tr>\n",
       "      <th>2009.0</th>\n",
       "      <td>Wii Sports Resort</td>\n",
       "      <td>33.00</td>\n",
       "    </tr>\n",
       "    <tr>\n",
       "      <th>2010.0</th>\n",
       "      <td>Kinect Adventures!</td>\n",
       "      <td>21.82</td>\n",
       "    </tr>\n",
       "    <tr>\n",
       "      <th>2011.0</th>\n",
       "      <td>Call of Duty: Modern Warfare 3</td>\n",
       "      <td>13.46</td>\n",
       "    </tr>\n",
       "    <tr>\n",
       "      <th>2012.0</th>\n",
       "      <td>Call of Duty: Black Ops II</td>\n",
       "      <td>14.03</td>\n",
       "    </tr>\n",
       "    <tr>\n",
       "      <th>2013.0</th>\n",
       "      <td>Grand Theft Auto V</td>\n",
       "      <td>21.40</td>\n",
       "    </tr>\n",
       "    <tr>\n",
       "      <th>2014.0</th>\n",
       "      <td>Grand Theft Auto V</td>\n",
       "      <td>11.98</td>\n",
       "    </tr>\n",
       "    <tr>\n",
       "      <th>2015.0</th>\n",
       "      <td>Call of Duty: Black Ops 3</td>\n",
       "      <td>14.24</td>\n",
       "    </tr>\n",
       "    <tr>\n",
       "      <th>2016.0</th>\n",
       "      <td>FIFA 17</td>\n",
       "      <td>4.77</td>\n",
       "    </tr>\n",
       "  </tbody>\n",
       "</table>\n",
       "</div>"
      ],
      "text/plain": [
       "                              Most Wanted Title  Total sells (ML of units)\n",
       "Year                                                                      \n",
       "1980.0                                Asteroids                       4.31\n",
       "1981.0                                 Pitfall!                       4.50\n",
       "1982.0                                  Pac-Man                       7.81\n",
       "1983.0                 Pitfall II: Lost Caverns                       1.31\n",
       "1984.0                                Beamrider                       0.27\n",
       "1985.0                             Ghostbusters                       0.45\n",
       "1986.0                                  Solaris                       0.37\n",
       "1987.0                           Kung-Fu Master                       0.65\n",
       "1988.0                            River Raid II                       0.51\n",
       "1989.0                            Double Dragon                       0.47\n",
       "1990.0                        Super Mario World                      20.61\n",
       "1991.0  The Legend of Zelda: A Link to the Past                       4.61\n",
       "1992.0                         Super Mario Kart                       8.76\n",
       "1993.0                    Super Mario All-Stars                      10.55\n",
       "1994.0                      Donkey Kong Country                       9.30\n",
       "1995.0                       Namco Museum Vol.1                       3.84\n",
       "1996.0                          Crash Bandicoot                       6.82\n",
       "1997.0                             Gran Turismo                      10.95\n",
       "1998.0                                 Tekken 3                       7.16\n",
       "1999.0                           Gran Turismo 2                       9.49\n",
       "2000.0                         Final Fantasy IX                       5.30\n",
       "2001.0                   Gran Turismo 3: A-Spec                      14.98\n",
       "2002.0              Grand Theft Auto: Vice City                      16.15\n",
       "2003.0               Need for Speed Underground                       7.20\n",
       "2004.0            Grand Theft Auto: San Andreas                      20.81\n",
       "2005.0                            Madden NFL 06                       4.91\n",
       "2006.0                               Wii Sports                      82.74\n",
       "2007.0                                  Wii Fit                      22.72\n",
       "2008.0                           Mario Kart Wii                      35.82\n",
       "2009.0                        Wii Sports Resort                      33.00\n",
       "2010.0                       Kinect Adventures!                      21.82\n",
       "2011.0           Call of Duty: Modern Warfare 3                      13.46\n",
       "2012.0               Call of Duty: Black Ops II                      14.03\n",
       "2013.0                       Grand Theft Auto V                      21.40\n",
       "2014.0                       Grand Theft Auto V                      11.98\n",
       "2015.0                Call of Duty: Black Ops 3                      14.24\n",
       "2016.0                                  FIFA 17                       4.77"
      ]
     },
     "execution_count": 28,
     "metadata": {},
     "output_type": "execute_result"
    }
   ],
   "source": [
    "most_popular_games"
   ]
  },
  {
   "cell_type": "markdown",
   "metadata": {},
   "source": [
    "## 6. Which was the most sold Title by Platform?"
   ]
  },
  {
   "cell_type": "markdown",
   "metadata": {},
   "source": [
    "Create a new object, called `most_popular_vg_by_platform`, that join the information from `most_popular_platfrom_by_year` and `most_popular_games`. Print the result in console."
   ]
  },
  {
   "cell_type": "code",
   "execution_count": 29,
   "metadata": {},
   "outputs": [],
   "source": [
    "most_popular_vg_by_platform = most_popular_games.reset_index().merge(\n",
    "    most_popular_platform_by_year, on='Year'\n",
    ")"
   ]
  },
  {
   "cell_type": "code",
   "execution_count": 30,
   "metadata": {},
   "outputs": [
    {
     "data": {
      "text/html": [
       "<div>\n",
       "<style scoped>\n",
       "    .dataframe tbody tr th:only-of-type {\n",
       "        vertical-align: middle;\n",
       "    }\n",
       "\n",
       "    .dataframe tbody tr th {\n",
       "        vertical-align: top;\n",
       "    }\n",
       "\n",
       "    .dataframe thead th {\n",
       "        text-align: right;\n",
       "    }\n",
       "</style>\n",
       "<table border=\"1\" class=\"dataframe\">\n",
       "  <thead>\n",
       "    <tr style=\"text-align: right;\">\n",
       "      <th></th>\n",
       "      <th>Most Wanted Title</th>\n",
       "      <th>Total sells (ML of units)</th>\n",
       "    </tr>\n",
       "    <tr>\n",
       "      <th>Platform</th>\n",
       "      <th></th>\n",
       "      <th></th>\n",
       "    </tr>\n",
       "  </thead>\n",
       "  <tbody>\n",
       "    <tr>\n",
       "      <th>2600</th>\n",
       "      <td>Solaris</td>\n",
       "      <td>7.81</td>\n",
       "    </tr>\n",
       "    <tr>\n",
       "      <th>PS</th>\n",
       "      <td>Tekken 3</td>\n",
       "      <td>10.95</td>\n",
       "    </tr>\n",
       "    <tr>\n",
       "      <th>PS2</th>\n",
       "      <td>Need for Speed Underground</td>\n",
       "      <td>20.81</td>\n",
       "    </tr>\n",
       "    <tr>\n",
       "      <th>PS3</th>\n",
       "      <td>Grand Theft Auto V</td>\n",
       "      <td>21.40</td>\n",
       "    </tr>\n",
       "    <tr>\n",
       "      <th>PS4</th>\n",
       "      <td>Grand Theft Auto V</td>\n",
       "      <td>14.24</td>\n",
       "    </tr>\n",
       "    <tr>\n",
       "      <th>SNES</th>\n",
       "      <td>The Legend of Zelda: A Link to the Past</td>\n",
       "      <td>20.61</td>\n",
       "    </tr>\n",
       "    <tr>\n",
       "      <th>Wii</th>\n",
       "      <td>Wii Sports Resort</td>\n",
       "      <td>82.74</td>\n",
       "    </tr>\n",
       "    <tr>\n",
       "      <th>X360</th>\n",
       "      <td>Kinect Adventures!</td>\n",
       "      <td>21.82</td>\n",
       "    </tr>\n",
       "  </tbody>\n",
       "</table>\n",
       "</div>"
      ],
      "text/plain": [
       "                                Most Wanted Title  Total sells (ML of units)\n",
       "Platform                                                                    \n",
       "2600                                      Solaris                       7.81\n",
       "PS                                       Tekken 3                      10.95\n",
       "PS2                    Need for Speed Underground                      20.81\n",
       "PS3                            Grand Theft Auto V                      21.40\n",
       "PS4                            Grand Theft Auto V                      14.24\n",
       "SNES      The Legend of Zelda: A Link to the Past                      20.61\n",
       "Wii                             Wii Sports Resort                      82.74\n",
       "X360                           Kinect Adventures!                      21.82"
      ]
     },
     "execution_count": 30,
     "metadata": {},
     "output_type": "execute_result"
    }
   ],
   "source": [
    "most_popular_vg_by_platform[\n",
    "    ['Platform', 'Most Wanted Title', 'Total sells (ML of units)']\n",
    "].groupby('Platform').max()"
   ]
  },
  {
   "cell_type": "markdown",
   "metadata": {},
   "source": [
    "## 7. Which are the most sold videogames ever?"
   ]
  },
  {
   "cell_type": "markdown",
   "metadata": {},
   "source": [
    "We are interesting in investigating which were the most sold titles in the last 40 years. To do so, we employ the `.groupby()` method, and store the result into the `most_wanted_vg` variable."
   ]
  },
  {
   "cell_type": "code",
   "execution_count": 31,
   "metadata": {},
   "outputs": [],
   "source": [
    "most_wanted_vg = filtered_data_top20[\n",
    "    ['Name', 'Global_Sales']\n",
    "].groupby('Global_Sales').sum()"
   ]
  },
  {
   "cell_type": "code",
   "execution_count": 32,
   "metadata": {},
   "outputs": [
    {
     "data": {
      "text/html": [
       "<div>\n",
       "<style scoped>\n",
       "    .dataframe tbody tr th:only-of-type {\n",
       "        vertical-align: middle;\n",
       "    }\n",
       "\n",
       "    .dataframe tbody tr th {\n",
       "        vertical-align: top;\n",
       "    }\n",
       "\n",
       "    .dataframe thead th {\n",
       "        text-align: right;\n",
       "    }\n",
       "</style>\n",
       "<table border=\"1\" class=\"dataframe\">\n",
       "  <thead>\n",
       "    <tr style=\"text-align: right;\">\n",
       "      <th></th>\n",
       "      <th>Name</th>\n",
       "    </tr>\n",
       "    <tr>\n",
       "      <th>Global_Sales</th>\n",
       "      <th></th>\n",
       "    </tr>\n",
       "  </thead>\n",
       "  <tbody>\n",
       "    <tr>\n",
       "      <th>82.74</th>\n",
       "      <td>Wii Sports</td>\n",
       "    </tr>\n",
       "    <tr>\n",
       "      <th>35.82</th>\n",
       "      <td>Mario Kart Wii</td>\n",
       "    </tr>\n",
       "    <tr>\n",
       "      <th>33.00</th>\n",
       "      <td>Wii Sports Resort</td>\n",
       "    </tr>\n",
       "    <tr>\n",
       "      <th>30.01</th>\n",
       "      <td>New Super Mario Bros.</td>\n",
       "    </tr>\n",
       "    <tr>\n",
       "      <th>29.02</th>\n",
       "      <td>Wii Play</td>\n",
       "    </tr>\n",
       "    <tr>\n",
       "      <th>28.62</th>\n",
       "      <td>New Super Mario Bros. Wii</td>\n",
       "    </tr>\n",
       "    <tr>\n",
       "      <th>24.76</th>\n",
       "      <td>Nintendogs</td>\n",
       "    </tr>\n",
       "    <tr>\n",
       "      <th>23.42</th>\n",
       "      <td>Mario Kart DS</td>\n",
       "    </tr>\n",
       "    <tr>\n",
       "      <th>22.72</th>\n",
       "      <td>Wii Fit</td>\n",
       "    </tr>\n",
       "    <tr>\n",
       "      <th>22.00</th>\n",
       "      <td>Wii Fit Plus</td>\n",
       "    </tr>\n",
       "  </tbody>\n",
       "</table>\n",
       "</div>"
      ],
      "text/plain": [
       "                                   Name\n",
       "Global_Sales                           \n",
       "82.74                        Wii Sports\n",
       "35.82                    Mario Kart Wii\n",
       "33.00                 Wii Sports Resort\n",
       "30.01             New Super Mario Bros.\n",
       "29.02                          Wii Play\n",
       "28.62         New Super Mario Bros. Wii\n",
       "24.76                        Nintendogs\n",
       "23.42                     Mario Kart DS\n",
       "22.72                           Wii Fit\n",
       "22.00                      Wii Fit Plus"
      ]
     },
     "execution_count": 32,
     "metadata": {},
     "output_type": "execute_result"
    }
   ],
   "source": [
    "most_wanted_vg.sort_values(by='Global_Sales', ascending=False).head(10)"
   ]
  },
  {
   "cell_type": "markdown",
   "metadata": {},
   "source": [
    "It looks like the nintendo games are the most sold! The Wii sports was such a huge success for Nintendo. The classic “Mario” games own 4 of Top 10 most popular games."
   ]
  },
  {
   "cell_type": "markdown",
   "metadata": {},
   "source": [
    "## 8. Top Video Game  for each of the Top 5 Publishers"
   ]
  },
  {
   "cell_type": "code",
   "execution_count": 33,
   "metadata": {},
   "outputs": [],
   "source": [
    "# ALREADY FILLED FOR STUDENT\n",
    "total_sales_df = filtered_data_top20[['Global_Sales', 'Publisher']].groupby('Publisher').sum()\n",
    "top_5_sales = total_sales_df.sort_values(\n",
    "    by='Global_Sales', ascending=False\n",
    ").head(5).reset_index()"
   ]
  },
  {
   "cell_type": "markdown",
   "metadata": {},
   "source": [
    "We now try to see which title was the most sold by publisher:"
   ]
  },
  {
   "cell_type": "code",
   "execution_count": 34,
   "metadata": {},
   "outputs": [],
   "source": [
    "most_wanted_title_by_publisher = pd.DataFrame()\n",
    "\n",
    "for _, row in top_5_sales.iterrows():\n",
    "    publisher = row['Publisher']\n",
    "    \n",
    "    temp = pd.pivot_table(\n",
    "        data = filtered_data_top20.query(\"Publisher == @publisher\"),\n",
    "        columns='Name',\n",
    "        index='Publisher',\n",
    "        values='Global_Sales',\n",
    "        aggfunc='sum'\n",
    "    ).fillna(0)\n",
    "    \n",
    "    \n",
    "    temp_col_max_value = temp.max(axis=1).to_frame() # finds max value by row\n",
    "    temp_col_max_value.rename(columns={0:'Total sales (ML of units)'}, inplace=True)\n",
    "    \n",
    "    temp_col_max = temp.idxmax(axis=1).to_frame() # find the column with the greatest value on each row\n",
    "    temp_col_max.rename(columns={0:'Most Wanted Title'}, inplace=True)\n",
    "    \n",
    "    merging_dfs = pd.concat([temp_col_max, temp_col_max_value], axis=1)\n",
    "    \n",
    "    most_wanted_title_by_publisher = most_wanted_title_by_publisher.append(merging_dfs)"
   ]
  },
  {
   "cell_type": "code",
   "execution_count": 35,
   "metadata": {},
   "outputs": [
    {
     "data": {
      "text/html": [
       "<div>\n",
       "<style scoped>\n",
       "    .dataframe tbody tr th:only-of-type {\n",
       "        vertical-align: middle;\n",
       "    }\n",
       "\n",
       "    .dataframe tbody tr th {\n",
       "        vertical-align: top;\n",
       "    }\n",
       "\n",
       "    .dataframe thead th {\n",
       "        text-align: right;\n",
       "    }\n",
       "</style>\n",
       "<table border=\"1\" class=\"dataframe\">\n",
       "  <thead>\n",
       "    <tr style=\"text-align: right;\">\n",
       "      <th></th>\n",
       "      <th>Most Wanted Title</th>\n",
       "      <th>Total sells (ML of units)</th>\n",
       "    </tr>\n",
       "    <tr>\n",
       "      <th>Publisher</th>\n",
       "      <th></th>\n",
       "      <th></th>\n",
       "    </tr>\n",
       "  </thead>\n",
       "  <tbody>\n",
       "    <tr>\n",
       "      <th>Nintendo</th>\n",
       "      <td>Wii Sports</td>\n",
       "      <td>82.74</td>\n",
       "    </tr>\n",
       "    <tr>\n",
       "      <th>Electronic Arts</th>\n",
       "      <td>FIFA 15</td>\n",
       "      <td>19.02</td>\n",
       "    </tr>\n",
       "    <tr>\n",
       "      <th>Activision</th>\n",
       "      <td>Call of Duty: Modern Warfare 3</td>\n",
       "      <td>30.83</td>\n",
       "    </tr>\n",
       "    <tr>\n",
       "      <th>Sony</th>\n",
       "      <td>Gran Turismo 3: A-Spec</td>\n",
       "      <td>14.98</td>\n",
       "    </tr>\n",
       "    <tr>\n",
       "      <th>Ubisoft</th>\n",
       "      <td>Assassin's Creed IV: Black Flag</td>\n",
       "      <td>13.16</td>\n",
       "    </tr>\n",
       "  </tbody>\n",
       "</table>\n",
       "</div>"
      ],
      "text/plain": [
       "                               Most Wanted Title  Total sells (ML of units)\n",
       "Publisher                                                                  \n",
       "Nintendo                              Wii Sports                      82.74\n",
       "Electronic Arts                          FIFA 15                      19.02\n",
       "Activision        Call of Duty: Modern Warfare 3                      30.83\n",
       "Sony                      Gran Turismo 3: A-Spec                      14.98\n",
       "Ubisoft          Assassin's Creed IV: Black Flag                      13.16"
      ]
     },
     "execution_count": 35,
     "metadata": {},
     "output_type": "execute_result"
    }
   ],
   "source": [
    "most_wanted_title_by_publisher"
   ]
  },
  {
   "cell_type": "markdown",
   "metadata": {},
   "source": [
    "## END"
   ]
  }
 ],
 "metadata": {
  "kernelspec": {
   "display_name": "webinar",
   "language": "python",
   "name": "webinar"
  },
  "language_info": {
   "codemirror_mode": {
    "name": "ipython",
    "version": 3
   },
   "file_extension": ".py",
   "mimetype": "text/x-python",
   "name": "python",
   "nbconvert_exporter": "python",
   "pygments_lexer": "ipython3",
   "version": "3.7.3"
  }
 },
 "nbformat": 4,
 "nbformat_minor": 4
}
